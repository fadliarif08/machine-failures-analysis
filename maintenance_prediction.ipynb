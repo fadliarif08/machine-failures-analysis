{
 "cells": [
  {
   "cell_type": "markdown",
   "id": "4f6432e0-3328-4ee8-b879-6634c39f821a",
   "metadata": {},
   "source": [
    "In this project we will analyze several condition that make the machine tend to be failured such as:\n",
    "\n",
    "1. identify what are the most frequent type of failure occurs\n",
    "2. determine the correlation between type of machine with the occurance of the failure case\n",
    "3. determine which condition (features) that tend to make the machine failure\n",
    "4. compare several model (SVM, Logistic Regression, and KNN) to see how accurate it is in predicting whether a machine is failured or not. \n",
    "\n",
    "Since real predictive maintenance datasets are generally difficult to obtain and in particular difficult to publish, this dataset provide a synthetic dataset that reflects real predictive maintenance encountered in industry \n",
    "\n",
    "note:\n",
    "1. All features are unscaled and there were some miss imputed on the target's feature, there are some machine that were failure imputed as not failure, so we need to crosscheck it to the failure's type features.\n",
    "2. There are no \"Null\" values, so we don't have to work on ways to replace values.\n",
    "3. Most of the case were no failure (96.5 %) of the time, while failure occurs (3.5 %) of the time in the dataframe\n"
   ]
  },
  {
   "cell_type": "markdown",
   "id": "63a6cbe6-e92d-4642-b058-6acb7e77ce60",
   "metadata": {},
   "source": [
    "# Import the moduls"
   ]
  },
  {
   "cell_type": "code",
   "execution_count": 44,
   "id": "f2dcb68b-27fe-4a19-8756-fb53c33db575",
   "metadata": {},
   "outputs": [],
   "source": [
    "import pandas as pd\n",
    "import numpy as np\n",
    "import seaborn as sns\n",
    "import matplotlib.pyplot as plt\n",
    "from sklearn.utils import resample\n",
    "from sklearn import preprocessing\n",
    "from sklearn.preprocessing import RobustScaler\n",
    "from sklearn.model_selection import train_test_split\n",
    "from sklearn.model_selection import GridSearchCV\n",
    "from sklearn.svm import SVC\n",
    "from sklearn.linear_model import LogisticRegression\n",
    "from sklearn.neighbors import KNeighborsClassifier\n",
    "from sklearn.model_selection import cross_val_score\n",
    "from sklearn.metrics import roc_auc_score\n",
    "from sklearn.metrics import precision_score, recall_score\n",
    "from sklearn.metrics import plot_confusion_matrix\n",
    "import warnings\n",
    "warnings.filterwarnings(\"ignore\")"
   ]
  },
  {
   "cell_type": "markdown",
   "id": "22c9293c-f8fa-4f24-a190-3d0e71f478c7",
   "metadata": {},
   "source": [
    "# Data Cleaning and Preparation"
   ]
  },
  {
   "cell_type": "code",
   "execution_count": 45,
   "id": "7e7204de-55f6-4b80-8580-6185bd1dfab8",
   "metadata": {},
   "outputs": [
    {
     "data": {
      "text/html": [
       "<div>\n",
       "<style scoped>\n",
       "    .dataframe tbody tr th:only-of-type {\n",
       "        vertical-align: middle;\n",
       "    }\n",
       "\n",
       "    .dataframe tbody tr th {\n",
       "        vertical-align: top;\n",
       "    }\n",
       "\n",
       "    .dataframe thead th {\n",
       "        text-align: right;\n",
       "    }\n",
       "</style>\n",
       "<table border=\"1\" class=\"dataframe\">\n",
       "  <thead>\n",
       "    <tr style=\"text-align: right;\">\n",
       "      <th></th>\n",
       "      <th>UDI</th>\n",
       "      <th>Product ID</th>\n",
       "      <th>Type</th>\n",
       "      <th>Air temperature [K]</th>\n",
       "      <th>Process temperature [K]</th>\n",
       "      <th>Rotational speed [rpm]</th>\n",
       "      <th>Torque [Nm]</th>\n",
       "      <th>Tool wear [min]</th>\n",
       "      <th>Target</th>\n",
       "      <th>Failure Type</th>\n",
       "    </tr>\n",
       "  </thead>\n",
       "  <tbody>\n",
       "    <tr>\n",
       "      <th>0</th>\n",
       "      <td>1</td>\n",
       "      <td>M14860</td>\n",
       "      <td>M</td>\n",
       "      <td>298.1</td>\n",
       "      <td>308.6</td>\n",
       "      <td>1551</td>\n",
       "      <td>42.8</td>\n",
       "      <td>0</td>\n",
       "      <td>0</td>\n",
       "      <td>No Failure</td>\n",
       "    </tr>\n",
       "    <tr>\n",
       "      <th>1</th>\n",
       "      <td>2</td>\n",
       "      <td>L47181</td>\n",
       "      <td>L</td>\n",
       "      <td>298.2</td>\n",
       "      <td>308.7</td>\n",
       "      <td>1408</td>\n",
       "      <td>46.3</td>\n",
       "      <td>3</td>\n",
       "      <td>0</td>\n",
       "      <td>No Failure</td>\n",
       "    </tr>\n",
       "    <tr>\n",
       "      <th>2</th>\n",
       "      <td>3</td>\n",
       "      <td>L47182</td>\n",
       "      <td>L</td>\n",
       "      <td>298.1</td>\n",
       "      <td>308.5</td>\n",
       "      <td>1498</td>\n",
       "      <td>49.4</td>\n",
       "      <td>5</td>\n",
       "      <td>0</td>\n",
       "      <td>No Failure</td>\n",
       "    </tr>\n",
       "    <tr>\n",
       "      <th>3</th>\n",
       "      <td>4</td>\n",
       "      <td>L47183</td>\n",
       "      <td>L</td>\n",
       "      <td>298.2</td>\n",
       "      <td>308.6</td>\n",
       "      <td>1433</td>\n",
       "      <td>39.5</td>\n",
       "      <td>7</td>\n",
       "      <td>0</td>\n",
       "      <td>No Failure</td>\n",
       "    </tr>\n",
       "    <tr>\n",
       "      <th>4</th>\n",
       "      <td>5</td>\n",
       "      <td>L47184</td>\n",
       "      <td>L</td>\n",
       "      <td>298.2</td>\n",
       "      <td>308.7</td>\n",
       "      <td>1408</td>\n",
       "      <td>40.0</td>\n",
       "      <td>9</td>\n",
       "      <td>0</td>\n",
       "      <td>No Failure</td>\n",
       "    </tr>\n",
       "  </tbody>\n",
       "</table>\n",
       "</div>"
      ],
      "text/plain": [
       "   UDI Product ID Type  Air temperature [K]  Process temperature [K]  \\\n",
       "0    1     M14860    M                298.1                    308.6   \n",
       "1    2     L47181    L                298.2                    308.7   \n",
       "2    3     L47182    L                298.1                    308.5   \n",
       "3    4     L47183    L                298.2                    308.6   \n",
       "4    5     L47184    L                298.2                    308.7   \n",
       "\n",
       "   Rotational speed [rpm]  Torque [Nm]  Tool wear [min]  Target Failure Type  \n",
       "0                    1551         42.8                0       0   No Failure  \n",
       "1                    1408         46.3                3       0   No Failure  \n",
       "2                    1498         49.4                5       0   No Failure  \n",
       "3                    1433         39.5                7       0   No Failure  \n",
       "4                    1408         40.0                9       0   No Failure  "
      ]
     },
     "execution_count": 45,
     "metadata": {},
     "output_type": "execute_result"
    }
   ],
   "source": [
    "df = pd.read_csv('predictive_maintenance.csv', header= 0)\n",
    "df.head()"
   ]
  },
  {
   "cell_type": "markdown",
   "id": "2af65aaf-0fab-4132-bc87-d2ba1c46e458",
   "metadata": {},
   "source": [
    "Identify the columns type and the shape of the data"
   ]
  },
  {
   "cell_type": "code",
   "execution_count": 14,
   "id": "0a69d07b-e1c3-4c68-97ef-e9970ffe597f",
   "metadata": {},
   "outputs": [
    {
     "data": {
      "text/plain": [
       "type                    object\n",
       "air_temperature        float64\n",
       "process_temperature    float64\n",
       "rotational_speed         int64\n",
       "torque                 float64\n",
       "tool_wear_min            int64\n",
       "target                   int64\n",
       "failure_type            object\n",
       "dtype: object"
      ]
     },
     "execution_count": 14,
     "metadata": {},
     "output_type": "execute_result"
    }
   ],
   "source": [
    "df.dtypes"
   ]
  },
  {
   "cell_type": "code",
   "execution_count": 15,
   "id": "0f967177-56c9-4662-ac32-68e2e1a3a631",
   "metadata": {},
   "outputs": [
    {
     "data": {
      "text/plain": [
       "(10000, 8)"
      ]
     },
     "execution_count": 15,
     "metadata": {},
     "output_type": "execute_result"
    }
   ],
   "source": [
    "df.shape"
   ]
  },
  {
   "cell_type": "markdown",
   "id": "79b1e979-a0c1-456a-8ee7-4ac14fadc2f5",
   "metadata": {},
   "source": [
    "There are some unneeded column like UDI and Product ID that were randomly assigned which we will not use it\n",
    "for our analysis"
   ]
  },
  {
   "cell_type": "code",
   "execution_count": 46,
   "id": "847230a1-d883-4f3b-8ae2-d9c639fbe57e",
   "metadata": {},
   "outputs": [],
   "source": [
    "df.drop(['UDI', 'Product ID'], axis= 1, inplace= True)"
   ]
  },
  {
   "cell_type": "markdown",
   "id": "ad58b621-2da6-4f4c-bcfb-80213a1a1b0d",
   "metadata": {},
   "source": [
    "Rename and changing the column's name to the 'normal' format to make it easier to write"
   ]
  },
  {
   "cell_type": "code",
   "execution_count": 47,
   "id": "4fa4280d-a05c-4b4a-93d7-9d5a56135ed6",
   "metadata": {},
   "outputs": [],
   "source": [
    "df = df.rename(columns={'Type': 'type', 'Air temperature [K]': 'air_temperature',\n",
    "                        'Process temperature [K]': 'process_temperature',\n",
    "                        'Rotational speed [rpm]': 'rotational_speed',\n",
    "                        'Torque [Nm]': 'torque', 'Tool wear [min]': 'tool_wear_min',\n",
    "                        'Target': 'target', 'Failure Type': 'failure_type'})"
   ]
  },
  {
   "cell_type": "code",
   "execution_count": 48,
   "id": "19ff6cbb-0fb5-4748-a243-dbfd1f449941",
   "metadata": {},
   "outputs": [],
   "source": [
    "df['failure_type'] = df['failure_type'].str.replace(' ', '_') \n",
    "df['failure_type'] = df['failure_type'].str.lower()"
   ]
  },
  {
   "cell_type": "markdown",
   "id": "d73b6fe7-1c89-4a54-b455-267771ab9d35",
   "metadata": {},
   "source": [
    "Identify missing and duplicated values in the data"
   ]
  },
  {
   "cell_type": "code",
   "execution_count": 6,
   "id": "f713e6ed-ee52-4c21-b34d-a3d166b8d19d",
   "metadata": {},
   "outputs": [
    {
     "data": {
      "text/plain": [
       "type                   0\n",
       "air_temperature        0\n",
       "process_temperature    0\n",
       "rotational_speed       0\n",
       "torque                 0\n",
       "tool_wear_min          0\n",
       "target                 0\n",
       "failure_type           0\n",
       "dtype: int64"
      ]
     },
     "execution_count": 6,
     "metadata": {},
     "output_type": "execute_result"
    }
   ],
   "source": [
    "df.isna().sum()"
   ]
  },
  {
   "cell_type": "code",
   "execution_count": 13,
   "id": "ad6f8525-5c2b-43f1-bf74-7ca102ff2b68",
   "metadata": {},
   "outputs": [
    {
     "data": {
      "text/plain": [
       "0"
      ]
     },
     "execution_count": 13,
     "metadata": {},
     "output_type": "execute_result"
    }
   ],
   "source": [
    "df.duplicated().sum()"
   ]
  },
  {
   "cell_type": "markdown",
   "id": "9419c9f5-0829-44c4-b34e-76dd3bfc9d66",
   "metadata": {},
   "source": [
    "# Data Manipulation"
   ]
  },
  {
   "cell_type": "markdown",
   "id": "398d3334-b165-40a8-9efa-67df53839ce0",
   "metadata": {},
   "source": [
    "Identify the count of our target values"
   ]
  },
  {
   "cell_type": "code",
   "execution_count": 13,
   "id": "e51cbe6f-c40a-4a13-b3c2-5bb68cd7469c",
   "metadata": {},
   "outputs": [
    {
     "data": {
      "text/plain": [
       "0    9661\n",
       "1     339\n",
       "Name: target, dtype: int64"
      ]
     },
     "execution_count": 13,
     "metadata": {},
     "output_type": "execute_result"
    }
   ],
   "source": [
    "df['target'].value_counts()"
   ]
  },
  {
   "cell_type": "markdown",
   "id": "9f239500-2e2b-4bff-b6a2-e9c265a678e7",
   "metadata": {},
   "source": [
    "The target's value '0' represent 'No Failure' and value '1' represent 'Failure'"
   ]
  },
  {
   "cell_type": "code",
   "execution_count": 14,
   "id": "8bf97e26-1105-4a78-8d93-e12df800223a",
   "metadata": {},
   "outputs": [
    {
     "data": {
      "text/plain": [
       "no_failure                  9652\n",
       "heat_dissipation_failure     112\n",
       "power_failure                 95\n",
       "overstrain_failure            78\n",
       "tool_wear_failure             45\n",
       "random_failures               18\n",
       "Name: failure_type, dtype: int64"
      ]
     },
     "execution_count": 14,
     "metadata": {},
     "output_type": "execute_result"
    }
   ],
   "source": [
    "df['failure_type'].value_counts()"
   ]
  },
  {
   "cell_type": "markdown",
   "id": "0b412993-7edc-424e-b3ed-e08b767a052e",
   "metadata": {},
   "source": [
    "There are some miss observation in 'no failure' values on target's column and failure type's column, we can see that the count of the values 'no failure' in the target's column is not equal to its count in failure type's column , so we need to find the values that miss imputed to the data "
   ]
  },
  {
   "cell_type": "code",
   "execution_count": 50,
   "id": "77b1a7da-5a71-4c50-bcee-ca1cb74111bc",
   "metadata": {},
   "outputs": [
    {
     "data": {
      "text/html": [
       "<div>\n",
       "<style scoped>\n",
       "    .dataframe tbody tr th:only-of-type {\n",
       "        vertical-align: middle;\n",
       "    }\n",
       "\n",
       "    .dataframe tbody tr th {\n",
       "        vertical-align: top;\n",
       "    }\n",
       "\n",
       "    .dataframe thead th {\n",
       "        text-align: right;\n",
       "    }\n",
       "</style>\n",
       "<table border=\"1\" class=\"dataframe\">\n",
       "  <thead>\n",
       "    <tr style=\"text-align: right;\">\n",
       "      <th></th>\n",
       "      <th>type</th>\n",
       "      <th>air_temperature</th>\n",
       "      <th>process_temperature</th>\n",
       "      <th>rotational_speed</th>\n",
       "      <th>torque</th>\n",
       "      <th>tool_wear_min</th>\n",
       "      <th>target</th>\n",
       "      <th>failure_type</th>\n",
       "    </tr>\n",
       "  </thead>\n",
       "  <tbody>\n",
       "    <tr>\n",
       "      <th>1221</th>\n",
       "      <td>M</td>\n",
       "      <td>297.0</td>\n",
       "      <td>308.3</td>\n",
       "      <td>1399</td>\n",
       "      <td>46.4</td>\n",
       "      <td>132</td>\n",
       "      <td>0</td>\n",
       "      <td>random_failures</td>\n",
       "    </tr>\n",
       "    <tr>\n",
       "      <th>1302</th>\n",
       "      <td>L</td>\n",
       "      <td>298.6</td>\n",
       "      <td>309.8</td>\n",
       "      <td>1505</td>\n",
       "      <td>45.7</td>\n",
       "      <td>144</td>\n",
       "      <td>0</td>\n",
       "      <td>random_failures</td>\n",
       "    </tr>\n",
       "    <tr>\n",
       "      <th>1748</th>\n",
       "      <td>H</td>\n",
       "      <td>298.4</td>\n",
       "      <td>307.7</td>\n",
       "      <td>1626</td>\n",
       "      <td>31.1</td>\n",
       "      <td>166</td>\n",
       "      <td>0</td>\n",
       "      <td>random_failures</td>\n",
       "    </tr>\n",
       "    <tr>\n",
       "      <th>2072</th>\n",
       "      <td>L</td>\n",
       "      <td>299.6</td>\n",
       "      <td>309.5</td>\n",
       "      <td>1570</td>\n",
       "      <td>35.5</td>\n",
       "      <td>189</td>\n",
       "      <td>0</td>\n",
       "      <td>random_failures</td>\n",
       "    </tr>\n",
       "    <tr>\n",
       "      <th>2559</th>\n",
       "      <td>L</td>\n",
       "      <td>299.3</td>\n",
       "      <td>309.0</td>\n",
       "      <td>1447</td>\n",
       "      <td>50.4</td>\n",
       "      <td>140</td>\n",
       "      <td>0</td>\n",
       "      <td>random_failures</td>\n",
       "    </tr>\n",
       "    <tr>\n",
       "      <th>3065</th>\n",
       "      <td>M</td>\n",
       "      <td>300.1</td>\n",
       "      <td>309.2</td>\n",
       "      <td>1687</td>\n",
       "      <td>27.7</td>\n",
       "      <td>95</td>\n",
       "      <td>0</td>\n",
       "      <td>random_failures</td>\n",
       "    </tr>\n",
       "    <tr>\n",
       "      <th>3452</th>\n",
       "      <td>H</td>\n",
       "      <td>301.6</td>\n",
       "      <td>310.5</td>\n",
       "      <td>1602</td>\n",
       "      <td>32.3</td>\n",
       "      <td>2</td>\n",
       "      <td>0</td>\n",
       "      <td>random_failures</td>\n",
       "    </tr>\n",
       "    <tr>\n",
       "      <th>5471</th>\n",
       "      <td>L</td>\n",
       "      <td>302.7</td>\n",
       "      <td>312.3</td>\n",
       "      <td>1346</td>\n",
       "      <td>61.2</td>\n",
       "      <td>170</td>\n",
       "      <td>0</td>\n",
       "      <td>random_failures</td>\n",
       "    </tr>\n",
       "    <tr>\n",
       "      <th>5489</th>\n",
       "      <td>L</td>\n",
       "      <td>302.6</td>\n",
       "      <td>312.1</td>\n",
       "      <td>1499</td>\n",
       "      <td>35.0</td>\n",
       "      <td>215</td>\n",
       "      <td>0</td>\n",
       "      <td>random_failures</td>\n",
       "    </tr>\n",
       "    <tr>\n",
       "      <th>5495</th>\n",
       "      <td>H</td>\n",
       "      <td>302.9</td>\n",
       "      <td>312.5</td>\n",
       "      <td>1357</td>\n",
       "      <td>55.0</td>\n",
       "      <td>12</td>\n",
       "      <td>0</td>\n",
       "      <td>random_failures</td>\n",
       "    </tr>\n",
       "    <tr>\n",
       "      <th>5509</th>\n",
       "      <td>L</td>\n",
       "      <td>302.8</td>\n",
       "      <td>312.2</td>\n",
       "      <td>1509</td>\n",
       "      <td>36.5</td>\n",
       "      <td>52</td>\n",
       "      <td>0</td>\n",
       "      <td>random_failures</td>\n",
       "    </tr>\n",
       "    <tr>\n",
       "      <th>5553</th>\n",
       "      <td>L</td>\n",
       "      <td>302.5</td>\n",
       "      <td>311.9</td>\n",
       "      <td>1306</td>\n",
       "      <td>59.7</td>\n",
       "      <td>172</td>\n",
       "      <td>0</td>\n",
       "      <td>random_failures</td>\n",
       "    </tr>\n",
       "    <tr>\n",
       "      <th>5639</th>\n",
       "      <td>L</td>\n",
       "      <td>302.6</td>\n",
       "      <td>312.1</td>\n",
       "      <td>1668</td>\n",
       "      <td>28.7</td>\n",
       "      <td>180</td>\n",
       "      <td>0</td>\n",
       "      <td>random_failures</td>\n",
       "    </tr>\n",
       "    <tr>\n",
       "      <th>6091</th>\n",
       "      <td>L</td>\n",
       "      <td>300.9</td>\n",
       "      <td>310.7</td>\n",
       "      <td>1412</td>\n",
       "      <td>57.5</td>\n",
       "      <td>16</td>\n",
       "      <td>0</td>\n",
       "      <td>random_failures</td>\n",
       "    </tr>\n",
       "    <tr>\n",
       "      <th>6913</th>\n",
       "      <td>L</td>\n",
       "      <td>300.8</td>\n",
       "      <td>311.2</td>\n",
       "      <td>1481</td>\n",
       "      <td>38.5</td>\n",
       "      <td>181</td>\n",
       "      <td>0</td>\n",
       "      <td>random_failures</td>\n",
       "    </tr>\n",
       "    <tr>\n",
       "      <th>6960</th>\n",
       "      <td>L</td>\n",
       "      <td>300.7</td>\n",
       "      <td>311.0</td>\n",
       "      <td>1413</td>\n",
       "      <td>52.0</td>\n",
       "      <td>91</td>\n",
       "      <td>0</td>\n",
       "      <td>random_failures</td>\n",
       "    </tr>\n",
       "    <tr>\n",
       "      <th>7488</th>\n",
       "      <td>L</td>\n",
       "      <td>300.3</td>\n",
       "      <td>311.7</td>\n",
       "      <td>1545</td>\n",
       "      <td>43.5</td>\n",
       "      <td>160</td>\n",
       "      <td>0</td>\n",
       "      <td>random_failures</td>\n",
       "    </tr>\n",
       "    <tr>\n",
       "      <th>7868</th>\n",
       "      <td>H</td>\n",
       "      <td>300.4</td>\n",
       "      <td>311.9</td>\n",
       "      <td>1438</td>\n",
       "      <td>46.7</td>\n",
       "      <td>41</td>\n",
       "      <td>0</td>\n",
       "      <td>random_failures</td>\n",
       "    </tr>\n",
       "  </tbody>\n",
       "</table>\n",
       "</div>"
      ],
      "text/plain": [
       "     type  air_temperature  process_temperature  rotational_speed  torque  \\\n",
       "1221    M            297.0                308.3              1399    46.4   \n",
       "1302    L            298.6                309.8              1505    45.7   \n",
       "1748    H            298.4                307.7              1626    31.1   \n",
       "2072    L            299.6                309.5              1570    35.5   \n",
       "2559    L            299.3                309.0              1447    50.4   \n",
       "3065    M            300.1                309.2              1687    27.7   \n",
       "3452    H            301.6                310.5              1602    32.3   \n",
       "5471    L            302.7                312.3              1346    61.2   \n",
       "5489    L            302.6                312.1              1499    35.0   \n",
       "5495    H            302.9                312.5              1357    55.0   \n",
       "5509    L            302.8                312.2              1509    36.5   \n",
       "5553    L            302.5                311.9              1306    59.7   \n",
       "5639    L            302.6                312.1              1668    28.7   \n",
       "6091    L            300.9                310.7              1412    57.5   \n",
       "6913    L            300.8                311.2              1481    38.5   \n",
       "6960    L            300.7                311.0              1413    52.0   \n",
       "7488    L            300.3                311.7              1545    43.5   \n",
       "7868    H            300.4                311.9              1438    46.7   \n",
       "\n",
       "      tool_wear_min  target     failure_type  \n",
       "1221            132       0  random_failures  \n",
       "1302            144       0  random_failures  \n",
       "1748            166       0  random_failures  \n",
       "2072            189       0  random_failures  \n",
       "2559            140       0  random_failures  \n",
       "3065             95       0  random_failures  \n",
       "3452              2       0  random_failures  \n",
       "5471            170       0  random_failures  \n",
       "5489            215       0  random_failures  \n",
       "5495             12       0  random_failures  \n",
       "5509             52       0  random_failures  \n",
       "5553            172       0  random_failures  \n",
       "5639            180       0  random_failures  \n",
       "6091             16       0  random_failures  \n",
       "6913            181       0  random_failures  \n",
       "6960             91       0  random_failures  \n",
       "7488            160       0  random_failures  \n",
       "7868             41       0  random_failures  "
      ]
     },
     "execution_count": 50,
     "metadata": {},
     "output_type": "execute_result"
    }
   ],
   "source": [
    "df_random_failure = df.loc[(df['target'] == 0) & (df['failure_type'] != 'no_failure')]\n",
    "df_random_failure"
   ]
  },
  {
   "cell_type": "markdown",
   "id": "ef80740d-1f6d-4a9b-b958-d39ede38cdb7",
   "metadata": {},
   "source": [
    "In this case there are 18 rows in failure's type column specifically 'random failure'\n",
    "that have a value '0' in target's columns,  we know that the values '0' indicates no failure,\n",
    "so we need to replace the value to '1' that represent failures"
   ]
  },
  {
   "cell_type": "code",
   "execution_count": 51,
   "id": "3e728b6e-2760-44cc-b913-424101ea7f29",
   "metadata": {},
   "outputs": [
    {
     "data": {
      "text/plain": [
       "0    9643\n",
       "1     357\n",
       "Name: target, dtype: int64"
      ]
     },
     "execution_count": 51,
     "metadata": {},
     "output_type": "execute_result"
    }
   ],
   "source": [
    "df.loc[df['failure_type'] == 'random_failures', 'target'] = 1\n",
    "df['target'].value_counts()"
   ]
  },
  {
   "cell_type": "code",
   "execution_count": 8,
   "id": "5899040c-4487-487f-b5d7-a657edb77b49",
   "metadata": {},
   "outputs": [
    {
     "data": {
      "text/plain": [
       "no_failure                  9652\n",
       "heat_dissipation_failure     112\n",
       "power_failure                 95\n",
       "overstrain_failure            78\n",
       "tool_wear_failure             45\n",
       "random_failures               18\n",
       "Name: failure_type, dtype: int64"
      ]
     },
     "execution_count": 8,
     "metadata": {},
     "output_type": "execute_result"
    }
   ],
   "source": [
    "df['failure_type'].value_counts()"
   ]
  },
  {
   "cell_type": "markdown",
   "id": "f0aa11f5-48c3-487d-a62f-d60f58716941",
   "metadata": {},
   "source": [
    "Yet still have some miss observation where the '0' values in target's column is still not equal\n",
    "to total values of 'no failure' in failure type's column."
   ]
  },
  {
   "cell_type": "code",
   "execution_count": 52,
   "id": "f9a7b9a3-c54a-46e3-a087-0edb6b51d106",
   "metadata": {},
   "outputs": [
    {
     "data": {
      "text/html": [
       "<div>\n",
       "<style scoped>\n",
       "    .dataframe tbody tr th:only-of-type {\n",
       "        vertical-align: middle;\n",
       "    }\n",
       "\n",
       "    .dataframe tbody tr th {\n",
       "        vertical-align: top;\n",
       "    }\n",
       "\n",
       "    .dataframe thead th {\n",
       "        text-align: right;\n",
       "    }\n",
       "</style>\n",
       "<table border=\"1\" class=\"dataframe\">\n",
       "  <thead>\n",
       "    <tr style=\"text-align: right;\">\n",
       "      <th></th>\n",
       "      <th>type</th>\n",
       "      <th>air_temperature</th>\n",
       "      <th>process_temperature</th>\n",
       "      <th>rotational_speed</th>\n",
       "      <th>torque</th>\n",
       "      <th>tool_wear_min</th>\n",
       "      <th>target</th>\n",
       "      <th>failure_type</th>\n",
       "    </tr>\n",
       "  </thead>\n",
       "  <tbody>\n",
       "    <tr>\n",
       "      <th>1437</th>\n",
       "      <td>H</td>\n",
       "      <td>298.8</td>\n",
       "      <td>309.9</td>\n",
       "      <td>1439</td>\n",
       "      <td>45.2</td>\n",
       "      <td>40</td>\n",
       "      <td>1</td>\n",
       "      <td>no_failure</td>\n",
       "    </tr>\n",
       "    <tr>\n",
       "      <th>2749</th>\n",
       "      <td>M</td>\n",
       "      <td>299.7</td>\n",
       "      <td>309.2</td>\n",
       "      <td>1685</td>\n",
       "      <td>28.9</td>\n",
       "      <td>179</td>\n",
       "      <td>1</td>\n",
       "      <td>no_failure</td>\n",
       "    </tr>\n",
       "    <tr>\n",
       "      <th>4044</th>\n",
       "      <td>M</td>\n",
       "      <td>301.9</td>\n",
       "      <td>310.9</td>\n",
       "      <td>1419</td>\n",
       "      <td>47.7</td>\n",
       "      <td>20</td>\n",
       "      <td>1</td>\n",
       "      <td>no_failure</td>\n",
       "    </tr>\n",
       "    <tr>\n",
       "      <th>4684</th>\n",
       "      <td>M</td>\n",
       "      <td>303.6</td>\n",
       "      <td>311.8</td>\n",
       "      <td>1421</td>\n",
       "      <td>44.8</td>\n",
       "      <td>101</td>\n",
       "      <td>1</td>\n",
       "      <td>no_failure</td>\n",
       "    </tr>\n",
       "    <tr>\n",
       "      <th>5536</th>\n",
       "      <td>M</td>\n",
       "      <td>302.3</td>\n",
       "      <td>311.8</td>\n",
       "      <td>1363</td>\n",
       "      <td>54.0</td>\n",
       "      <td>119</td>\n",
       "      <td>1</td>\n",
       "      <td>no_failure</td>\n",
       "    </tr>\n",
       "    <tr>\n",
       "      <th>5941</th>\n",
       "      <td>L</td>\n",
       "      <td>300.6</td>\n",
       "      <td>310.7</td>\n",
       "      <td>1438</td>\n",
       "      <td>48.5</td>\n",
       "      <td>78</td>\n",
       "      <td>1</td>\n",
       "      <td>no_failure</td>\n",
       "    </tr>\n",
       "    <tr>\n",
       "      <th>6478</th>\n",
       "      <td>L</td>\n",
       "      <td>300.5</td>\n",
       "      <td>309.8</td>\n",
       "      <td>1663</td>\n",
       "      <td>29.1</td>\n",
       "      <td>145</td>\n",
       "      <td>1</td>\n",
       "      <td>no_failure</td>\n",
       "    </tr>\n",
       "    <tr>\n",
       "      <th>8506</th>\n",
       "      <td>L</td>\n",
       "      <td>298.4</td>\n",
       "      <td>309.6</td>\n",
       "      <td>1710</td>\n",
       "      <td>27.3</td>\n",
       "      <td>163</td>\n",
       "      <td>1</td>\n",
       "      <td>no_failure</td>\n",
       "    </tr>\n",
       "    <tr>\n",
       "      <th>9015</th>\n",
       "      <td>L</td>\n",
       "      <td>297.2</td>\n",
       "      <td>308.1</td>\n",
       "      <td>1431</td>\n",
       "      <td>49.7</td>\n",
       "      <td>210</td>\n",
       "      <td>1</td>\n",
       "      <td>no_failure</td>\n",
       "    </tr>\n",
       "  </tbody>\n",
       "</table>\n",
       "</div>"
      ],
      "text/plain": [
       "     type  air_temperature  process_temperature  rotational_speed  torque  \\\n",
       "1437    H            298.8                309.9              1439    45.2   \n",
       "2749    M            299.7                309.2              1685    28.9   \n",
       "4044    M            301.9                310.9              1419    47.7   \n",
       "4684    M            303.6                311.8              1421    44.8   \n",
       "5536    M            302.3                311.8              1363    54.0   \n",
       "5941    L            300.6                310.7              1438    48.5   \n",
       "6478    L            300.5                309.8              1663    29.1   \n",
       "8506    L            298.4                309.6              1710    27.3   \n",
       "9015    L            297.2                308.1              1431    49.7   \n",
       "\n",
       "      tool_wear_min  target failure_type  \n",
       "1437             40       1   no_failure  \n",
       "2749            179       1   no_failure  \n",
       "4044             20       1   no_failure  \n",
       "4684            101       1   no_failure  \n",
       "5536            119       1   no_failure  \n",
       "5941             78       1   no_failure  \n",
       "6478            145       1   no_failure  \n",
       "8506            163       1   no_failure  \n",
       "9015            210       1   no_failure  "
      ]
     },
     "execution_count": 52,
     "metadata": {},
     "output_type": "execute_result"
    }
   ],
   "source": [
    "df_failure_type_error = df[(df['target'] != 0) & (df['failure_type'] == 'no_failure')]\n",
    "df_failure_type_error"
   ]
  },
  {
   "cell_type": "markdown",
   "id": "6280d20a-95da-4d83-ac3f-986e9e374523",
   "metadata": {},
   "source": [
    "In this case there are 9 rows in failure's type column specifically 'no failure'\n",
    "that have a value '1' in target's columns,  we also know that '1' indicates failure,\n",
    "so we need to replace the target's value to '0' that represent no failures"
   ]
  },
  {
   "cell_type": "code",
   "execution_count": 53,
   "id": "4098b45f-448f-4753-a6f4-3b7f2d2b6ccf",
   "metadata": {},
   "outputs": [
    {
     "data": {
      "text/html": [
       "<div>\n",
       "<style scoped>\n",
       "    .dataframe tbody tr th:only-of-type {\n",
       "        vertical-align: middle;\n",
       "    }\n",
       "\n",
       "    .dataframe tbody tr th {\n",
       "        vertical-align: top;\n",
       "    }\n",
       "\n",
       "    .dataframe thead th {\n",
       "        text-align: right;\n",
       "    }\n",
       "</style>\n",
       "<table border=\"1\" class=\"dataframe\">\n",
       "  <thead>\n",
       "    <tr style=\"text-align: right;\">\n",
       "      <th></th>\n",
       "      <th>type</th>\n",
       "      <th>air_temperature</th>\n",
       "      <th>process_temperature</th>\n",
       "      <th>rotational_speed</th>\n",
       "      <th>torque</th>\n",
       "      <th>tool_wear_min</th>\n",
       "      <th>target</th>\n",
       "      <th>failure_type</th>\n",
       "    </tr>\n",
       "  </thead>\n",
       "  <tbody>\n",
       "    <tr>\n",
       "      <th>0</th>\n",
       "      <td>M</td>\n",
       "      <td>298.1</td>\n",
       "      <td>308.6</td>\n",
       "      <td>1551.0</td>\n",
       "      <td>42.8</td>\n",
       "      <td>0.0</td>\n",
       "      <td>0</td>\n",
       "      <td>no_failure</td>\n",
       "    </tr>\n",
       "    <tr>\n",
       "      <th>1</th>\n",
       "      <td>L</td>\n",
       "      <td>298.2</td>\n",
       "      <td>308.7</td>\n",
       "      <td>1408.0</td>\n",
       "      <td>46.3</td>\n",
       "      <td>3.0</td>\n",
       "      <td>0</td>\n",
       "      <td>no_failure</td>\n",
       "    </tr>\n",
       "    <tr>\n",
       "      <th>2</th>\n",
       "      <td>L</td>\n",
       "      <td>298.1</td>\n",
       "      <td>308.5</td>\n",
       "      <td>1498.0</td>\n",
       "      <td>49.4</td>\n",
       "      <td>5.0</td>\n",
       "      <td>0</td>\n",
       "      <td>no_failure</td>\n",
       "    </tr>\n",
       "    <tr>\n",
       "      <th>3</th>\n",
       "      <td>L</td>\n",
       "      <td>298.2</td>\n",
       "      <td>308.6</td>\n",
       "      <td>1433.0</td>\n",
       "      <td>39.5</td>\n",
       "      <td>7.0</td>\n",
       "      <td>0</td>\n",
       "      <td>no_failure</td>\n",
       "    </tr>\n",
       "    <tr>\n",
       "      <th>4</th>\n",
       "      <td>L</td>\n",
       "      <td>298.2</td>\n",
       "      <td>308.7</td>\n",
       "      <td>1408.0</td>\n",
       "      <td>40.0</td>\n",
       "      <td>9.0</td>\n",
       "      <td>0</td>\n",
       "      <td>no_failure</td>\n",
       "    </tr>\n",
       "  </tbody>\n",
       "</table>\n",
       "</div>"
      ],
      "text/plain": [
       "  type  air_temperature  process_temperature  rotational_speed  torque  \\\n",
       "0    M            298.1                308.6            1551.0    42.8   \n",
       "1    L            298.2                308.7            1408.0    46.3   \n",
       "2    L            298.1                308.5            1498.0    49.4   \n",
       "3    L            298.2                308.6            1433.0    39.5   \n",
       "4    L            298.2                308.7            1408.0    40.0   \n",
       "\n",
       "   tool_wear_min  target failure_type  \n",
       "0            0.0       0   no_failure  \n",
       "1            3.0       0   no_failure  \n",
       "2            5.0       0   no_failure  \n",
       "3            7.0       0   no_failure  \n",
       "4            9.0       0   no_failure  "
      ]
     },
     "execution_count": 53,
     "metadata": {},
     "output_type": "execute_result"
    }
   ],
   "source": [
    "df_failure_type_error.loc[:, 'target'] = 0\n",
    "df.update(df_failure_type_error)\n",
    "df['target'] = df['target'].astype('int')\n",
    "df.head()"
   ]
  },
  {
   "cell_type": "code",
   "execution_count": 18,
   "id": "fd39c4dd-61e7-467e-b35c-7c153891de64",
   "metadata": {},
   "outputs": [
    {
     "data": {
      "text/plain": [
       "0    9652\n",
       "1     348\n",
       "Name: target, dtype: int64"
      ]
     },
     "execution_count": 18,
     "metadata": {},
     "output_type": "execute_result"
    }
   ],
   "source": [
    "df['target'].value_counts()"
   ]
  },
  {
   "cell_type": "code",
   "execution_count": 19,
   "id": "fa08c43a-05e4-496f-8ab2-8715f860a0d5",
   "metadata": {},
   "outputs": [
    {
     "data": {
      "text/plain": [
       "no_failure                  9652\n",
       "heat_dissipation_failure     112\n",
       "power_failure                 95\n",
       "overstrain_failure            78\n",
       "tool_wear_failure             45\n",
       "random_failures               18\n",
       "Name: failure_type, dtype: int64"
      ]
     },
     "execution_count": 19,
     "metadata": {},
     "output_type": "execute_result"
    }
   ],
   "source": [
    "df['failure_type'].value_counts()"
   ]
  },
  {
   "cell_type": "markdown",
   "id": "2d4492da-860c-4af6-bf2d-50a2fda19489",
   "metadata": {},
   "source": [
    "Now our data is ready to be explored"
   ]
  },
  {
   "cell_type": "markdown",
   "id": "ff25ce07-1475-4ffc-9a5f-14f243650e9a",
   "metadata": {},
   "source": [
    "# Ekploratory Data Analysis"
   ]
  },
  {
   "cell_type": "code",
   "execution_count": 14,
   "id": "d94d1f5d-8737-4846-b67c-e096a75e3cd1",
   "metadata": {},
   "outputs": [
    {
     "data": {
      "text/html": [
       "<div>\n",
       "<style scoped>\n",
       "    .dataframe tbody tr th:only-of-type {\n",
       "        vertical-align: middle;\n",
       "    }\n",
       "\n",
       "    .dataframe tbody tr th {\n",
       "        vertical-align: top;\n",
       "    }\n",
       "\n",
       "    .dataframe thead th {\n",
       "        text-align: right;\n",
       "    }\n",
       "</style>\n",
       "<table border=\"1\" class=\"dataframe\">\n",
       "  <thead>\n",
       "    <tr style=\"text-align: right;\">\n",
       "      <th></th>\n",
       "      <th>count</th>\n",
       "      <th>mean</th>\n",
       "      <th>std</th>\n",
       "      <th>min</th>\n",
       "      <th>25%</th>\n",
       "      <th>50%</th>\n",
       "      <th>75%</th>\n",
       "      <th>max</th>\n",
       "    </tr>\n",
       "  </thead>\n",
       "  <tbody>\n",
       "    <tr>\n",
       "      <th>air_temperature</th>\n",
       "      <td>10000.0</td>\n",
       "      <td>300.00493</td>\n",
       "      <td>2.000259</td>\n",
       "      <td>295.3</td>\n",
       "      <td>298.3</td>\n",
       "      <td>300.1</td>\n",
       "      <td>301.5</td>\n",
       "      <td>304.5</td>\n",
       "    </tr>\n",
       "    <tr>\n",
       "      <th>process_temperature</th>\n",
       "      <td>10000.0</td>\n",
       "      <td>310.00556</td>\n",
       "      <td>1.483734</td>\n",
       "      <td>305.7</td>\n",
       "      <td>308.8</td>\n",
       "      <td>310.1</td>\n",
       "      <td>311.1</td>\n",
       "      <td>313.8</td>\n",
       "    </tr>\n",
       "    <tr>\n",
       "      <th>rotational_speed</th>\n",
       "      <td>10000.0</td>\n",
       "      <td>1538.77610</td>\n",
       "      <td>179.284096</td>\n",
       "      <td>1168.0</td>\n",
       "      <td>1423.0</td>\n",
       "      <td>1503.0</td>\n",
       "      <td>1612.0</td>\n",
       "      <td>2886.0</td>\n",
       "    </tr>\n",
       "    <tr>\n",
       "      <th>torque</th>\n",
       "      <td>10000.0</td>\n",
       "      <td>39.98691</td>\n",
       "      <td>9.968934</td>\n",
       "      <td>3.8</td>\n",
       "      <td>33.2</td>\n",
       "      <td>40.1</td>\n",
       "      <td>46.8</td>\n",
       "      <td>76.6</td>\n",
       "    </tr>\n",
       "    <tr>\n",
       "      <th>tool_wear_min</th>\n",
       "      <td>10000.0</td>\n",
       "      <td>107.95100</td>\n",
       "      <td>63.654147</td>\n",
       "      <td>0.0</td>\n",
       "      <td>53.0</td>\n",
       "      <td>108.0</td>\n",
       "      <td>162.0</td>\n",
       "      <td>253.0</td>\n",
       "    </tr>\n",
       "    <tr>\n",
       "      <th>target</th>\n",
       "      <td>10000.0</td>\n",
       "      <td>0.03480</td>\n",
       "      <td>0.183282</td>\n",
       "      <td>0.0</td>\n",
       "      <td>0.0</td>\n",
       "      <td>0.0</td>\n",
       "      <td>0.0</td>\n",
       "      <td>1.0</td>\n",
       "    </tr>\n",
       "  </tbody>\n",
       "</table>\n",
       "</div>"
      ],
      "text/plain": [
       "                       count        mean         std     min     25%     50%  \\\n",
       "air_temperature      10000.0   300.00493    2.000259   295.3   298.3   300.1   \n",
       "process_temperature  10000.0   310.00556    1.483734   305.7   308.8   310.1   \n",
       "rotational_speed     10000.0  1538.77610  179.284096  1168.0  1423.0  1503.0   \n",
       "torque               10000.0    39.98691    9.968934     3.8    33.2    40.1   \n",
       "tool_wear_min        10000.0   107.95100   63.654147     0.0    53.0   108.0   \n",
       "target               10000.0     0.03480    0.183282     0.0     0.0     0.0   \n",
       "\n",
       "                        75%     max  \n",
       "air_temperature       301.5   304.5  \n",
       "process_temperature   311.1   313.8  \n",
       "rotational_speed     1612.0  2886.0  \n",
       "torque                 46.8    76.6  \n",
       "tool_wear_min         162.0   253.0  \n",
       "target                  0.0     1.0  "
      ]
     },
     "execution_count": 14,
     "metadata": {},
     "output_type": "execute_result"
    }
   ],
   "source": [
    "df.describe().T"
   ]
  },
  {
   "cell_type": "code",
   "execution_count": 54,
   "id": "bdfefa43-5845-4797-9f90-ee75091f7c8d",
   "metadata": {},
   "outputs": [
    {
     "data": {
      "image/png": "[encoded data removed]",
      "text/plain": [
       "<Figure size 1440x432 with 4 Axes>"
      ]
     },
     "metadata": {
      "needs_background": "light"
     },
     "output_type": "display_data"
    }
   ],
   "source": [
    "fig, ax = plt.subplots(1, 4, figsize=(20,6))\n",
    "\n",
    "# fig.suptitle('Distribution Of Each Features', fontsize=20)\n",
    "\n",
    "sns.histplot(df, x='air_temperature', bins= 15, kde=True, ax=ax[0])\n",
    "ax[0].set_title('Air Temperature \\nDistribution', fontsize=14)\n",
    "ax[0].set_xlabel('')\n",
    "\n",
    "sns.histplot(df, x='process_temperature', bins= 15, kde=True, ax=ax[1], color='yellow')\n",
    "ax[1].set_title('Process Temperature \\nDistribution', fontsize=14)\n",
    "ax[1].set_xlabel('')\n",
    "\n",
    "sns.histplot(df, x='rotational_speed', bins= 15, kde=True, ax=ax[2], color='green')\n",
    "ax[2].set_title('Rotational Speed \\nDistribution', fontsize=14)\n",
    "ax[2].set_xlabel('')\n",
    "\n",
    "sns.histplot(df, x='torque', bins= 15, kde=True, ax=ax[3], color='red')\n",
    "ax[3].set_title('Torque \\nDistribution', fontsize=14)\n",
    "ax[3].set_xlabel('')\n",
    "\n",
    "plt.show()"
   ]
  },
  {
   "cell_type": "markdown",
   "id": "980245d2-f924-4682-85f3-e3bf2967cda0",
   "metadata": {},
   "source": [
    "From the histplot above we can see that each features were normally distributed except the rotational speed features that have positively skewed. On the normally distributed data we can say that the majority of the data were spread along the mean or the median of the data and in the positively skewed data (in this case the rotational speed columns) the majority of the data lie under the value of the mean"
   ]
  },
  {
   "cell_type": "code",
   "execution_count": 55,
   "id": "354ac298-6d03-48f8-bb80-1446845c7514",
   "metadata": {},
   "outputs": [
    {
     "data": {
      "image/png": "[encoded data removed]",
      "text/plain": [
       "<Figure size 800x600 with 1 Axes>"
      ]
     },
     "metadata": {
      "needs_background": "light"
     },
     "output_type": "display_data"
    }
   ],
   "source": [
    "fig = plt.figure(figsize=(8,6), dpi= 100)\n",
    "#ax = sns.set_theme(style=\"whitegrid\")\n",
    "ax = fig.add_axes([0.1, 0.1, 0.5, 0.5])\n",
    "ax = sns.countplot(data=df, x='target', palette=\"Set2\")\n",
    "\n",
    "for c in ax.containers:\n",
    "    ax.bar_label(c)\n",
    "\n",
    "ax.set_title('Histogram')\n",
    "ax.set_xlabel('Failure or Not')\n",
    "ax.set_ylabel('Count')\n",
    "ax.set_xticklabels(['No Failure', 'Failure'])\n",
    "plt.show()"
   ]
  },
  {
   "cell_type": "markdown",
   "id": "703b6c20-14b0-4f36-afb7-229fdec39d8e",
   "metadata": {},
   "source": [
    "The data showed about 96.5 % of the target variabel were no failures and only\n",
    "about 3.5 % of the target variabel were failures. It means that the data were \n",
    "highly imbalanced and we need to to some treatment to make each target's feature were equal"
   ]
  },
  {
   "cell_type": "code",
   "execution_count": 56,
   "id": "a11e1570-6cb0-4a23-9357-137df24c0ad9",
   "metadata": {},
   "outputs": [
    {
     "data": {
      "text/plain": [
       "failure_type\n",
       "heat_dissipation_failure    112\n",
       "power_failure                95\n",
       "overstrain_failure           78\n",
       "tool_wear_failure            45\n",
       "random_failures              18\n",
       "Name: target, dtype: int64"
      ]
     },
     "execution_count": 56,
     "metadata": {},
     "output_type": "execute_result"
    }
   ],
   "source": [
    "df_failure= df[df['failure_type'] != \"no_failure\"]\n",
    "failure_sorted = df_failure.groupby('failure_type')['target'].count().sort_values(ascending=False)\n",
    "failure_sorted"
   ]
  },
  {
   "cell_type": "code",
   "execution_count": 57,
   "id": "32c8f8ba-0453-47c1-b906-23dc89828949",
   "metadata": {},
   "outputs": [
    {
     "data": {
      "image/png": "[encoded data removed]",
      "text/plain": [
       "<Figure size 800x600 with 1 Axes>"
      ]
     },
     "metadata": {
      "needs_background": "light"
     },
     "output_type": "display_data"
    }
   ],
   "source": [
    "fig = plt.figure(figsize=(8,6), dpi= 100)\n",
    "ax = sns.set_theme(style=\"whitegrid\")\n",
    "ax = fig.add_axes([0.1, 0.1, 0.5, 0.5])\n",
    "ax = sns.countplot(data= df.query('failure_type != \"no_failure\"'), y='failure_type',\n",
    "                   palette=\"Set2\", order=['heat_dissipation_failure', 'power_failure',\n",
    "                                         'overstrain_failure', 'tool_wear_failure',\n",
    "                                         'random_failures'])\n",
    "\n",
    "ax.set_title('Failure Type Count')\n",
    "ax.set_xlabel('Count')\n",
    "ax.set_ylabel('Type of Failure')\n",
    "ax.set_yticklabels(['Heat Dissipation','Power','Overstrain','Tool Wear','Random'], rotation= 0)\n",
    "plt.show()"
   ]
  },
  {
   "cell_type": "markdown",
   "id": "c4bd832b-9908-4c17-b000-9b4924be2f2e",
   "metadata": {},
   "source": [
    "The most frequent failure's that occurs in the machine product sequentially are Heat Dissipation Failure, Power Failure\n",
    "Overstrain Failure, Total Wear Failure and Random failure"
   ]
  },
  {
   "cell_type": "code",
   "execution_count": 58,
   "id": "35d4b92f-563b-4b2f-8469-896791570289",
   "metadata": {},
   "outputs": [
    {
     "data": {
      "image/png": "[encoded data removed]",
      "text/plain": [
       "<Figure size 800x600 with 1 Axes>"
      ]
     },
     "metadata": {},
     "output_type": "display_data"
    }
   ],
   "source": [
    "fig = plt.figure(figsize=(8,6), dpi= 100)\n",
    "ax = sns.set_theme(style=\"whitegrid\")\n",
    "ax = fig.add_axes([0.1, 0.1, 0.5, 0.5])\n",
    "ax = sns.countplot(data= df.query(\"target == 1\"), x='type', palette=\"Set2\",\n",
    "                   order=['L', 'M', 'H'])\n",
    "\n",
    "for c in ax.containers:\n",
    "    ax.bar_label(c)\n",
    "    \n",
    "ax.set_title('Failure per Type')\n",
    "ax.set_xlabel('Type')\n",
    "ax.set_ylabel('Count')\n",
    "plt.show()\n"
   ]
  },
  {
   "cell_type": "code",
   "execution_count": 59,
   "id": "5d3aab41-4deb-4dba-bbb8-e5c9a00f4e64",
   "metadata": {},
   "outputs": [
    {
     "data": {
      "image/png": "[encoded data removed]",
      "text/plain": [
       "<Figure size 515.6x360 with 1 Axes>"
      ]
     },
     "metadata": {},
     "output_type": "display_data"
    }
   ],
   "source": [
    "ax = sns.set_theme(style=\"whitegrid\")\n",
    "ax = sns.catplot(data= df.query(\"target == 1\"), x='type', palette=\"Set2\", hue='failure_type', kind='count',\n",
    "                   order=['L', 'M', 'H'])\n",
    "plt.show()"
   ]
  },
  {
   "cell_type": "markdown",
   "id": "588d595e-090c-442d-9e40-3ba796be0cdc",
   "metadata": {},
   "source": [
    "From the barchart above we can see that the machine with type 'L' or stands for 'Low Quality' tends to be Failured compared to machine with type 'H' or stands for 'High Quality'.  "
   ]
  },
  {
   "cell_type": "code",
   "execution_count": 67,
   "id": "980dc9ca-c3a8-4405-bb84-906b8ecbdf66",
   "metadata": {},
   "outputs": [
    {
     "data": {
      "text/plain": [
       "type\n",
       "H    1003\n",
       "L    6000\n",
       "M    2997\n",
       "Name: target, dtype: int64"
      ]
     },
     "execution_count": 67,
     "metadata": {},
     "output_type": "execute_result"
    }
   ],
   "source": [
    "df.groupby('type')['target'].count()"
   ]
  },
  {
   "cell_type": "markdown",
   "id": "ce5351e7-6850-4816-9b45-a366314f7b3c",
   "metadata": {},
   "source": [
    "The problem is the product with type L or 'Low' are consist about 60 % of all product,\n",
    "as we can see product with type H or 'High' are only about 10 % of the product, hence we cannot\n",
    "conclude that product with type H are much better than product with type L in term of Failures,\n",
    "so we need to see the ratio of total failure on each types "
   ]
  },
  {
   "cell_type": "code",
   "execution_count": 60,
   "id": "103e39da-ad29-4817-8ab8-e13f950dd748",
   "metadata": {},
   "outputs": [],
   "source": [
    "df_failured = df.query('failure_type != \"no_failure\"')"
   ]
  },
  {
   "cell_type": "code",
   "execution_count": 61,
   "id": "8149d770-8e89-4598-ae7a-dd53d3273ea3",
   "metadata": {},
   "outputs": [
    {
     "name": "stdout",
     "output_type": "stream",
     "text": [
      "Type L Failure Ratio: 4.05 %\n",
      "Type M Failure Ratio: 2.70 %\n",
      "Type H Failure Ratio: 2.39 %\n"
     ]
    }
   ],
   "source": [
    "count_type_L = len(df[df['type'] == 'L'])\n",
    "count_failure__L = len(df_failured[df_failured['type'] == 'L'])\n",
    "print('Type L Failure Ratio: {:.2f} %'.format(count_failure__L / count_type_L * 100))\n",
    "\n",
    "count_type_M = len(df[df['type'] == 'M'])\n",
    "count_failure__M = len(df_failured[df_failured['type'] == 'M'])\n",
    "print('Type M Failure Ratio: {:.2f} %'.format(count_failure__M / count_type_M * 100))\n",
    "\n",
    "count_type_H = len(df[df['type'] == 'H'])\n",
    "count_failure__H = len(df_failured[df_failured['type'] == 'H'])\n",
    "print('Type H Failure Ratio: {:.2f} %'.format(count_failure__H / count_type_H * 100))"
   ]
  },
  {
   "cell_type": "markdown",
   "id": "59103457-48c3-4576-a060-dfab3fad109e",
   "metadata": {},
   "source": [
    "as we can see that the product from type L are tend to be failured if we compared it with another product, but\n",
    "we can directly conclude that because as we know that the data are imbalanced and the quantity of the type L\n",
    "product are much more higher than others. \n",
    "----------------------------------------------------------------------------------------------------------------"
   ]
  },
  {
   "cell_type": "markdown",
   "id": "24e1f7cb-5403-4116-9105-dfc33ee2df3b",
   "metadata": {},
   "source": [
    "In this phase of the project we will implement \"Random Under Sampling\" which basically consists of removing data in order to have a more balanced dataset and thus avoiding our models to overfitting.\n",
    "\n",
    "Steps:\n",
    "1. The first thing we have to do is determine how imbalanced is our target on the target's column to determine the amount for each label\n",
    "2. Once we determine how many instances are considered as failure (Failure = \"1\") , we should bring the no failure's case to the same amount as failure case (assuming we want a 50/50 ratio), this will be equivalent to 348 cases of failure and 348 cases of no failure.\n",
    "\n",
    "Note: The main issue with \"Random Under-Sampling\" is that we run the risk that our classification models will not perform as accurate as we would like to since there is a great deal of information loss (bringing 348 no failures from 10000 no failures case)"
   ]
  },
  {
   "cell_type": "code",
   "execution_count": 62,
   "id": "33a21397-04ca-4040-8143-c3ff51d4857a",
   "metadata": {},
   "outputs": [],
   "source": [
    "failure = df[df['target'] == 1]\n",
    "no_failure = df[df['target'] == 0]\n",
    "\n",
    "no_failure_undersampled = resample(no_failure, \n",
    "                                    n_samples= 348,\n",
    "                                    random_state= 42)\n",
    "df_resample = pd.concat([no_failure_undersampled, failure])"
   ]
  },
  {
   "cell_type": "markdown",
   "id": "a3cff624-fbd6-4b36-8ac7-a50e32c4b0c7",
   "metadata": {},
   "source": [
    "In this section we will plot the correlation matrices to determine which features that have high correlation with the failure's case\n",
    "\n",
    "Correlation matrices are the essence of understanding our data. We want to know if there are features that influence heavily in whether a specific condition is a failure. However, it is important that we use the correct dataframe (undersampled data) in order for us to see which features have a high positive or negative correlation with regards to failure case.\n",
    "\n",
    "Summary and Explanation:\n",
    "1. Negative Correlations: rotational speed are negatively correlated. Notice how the lower these values are, the more likely the end result will be a failure case.\n",
    "2. Positive Correlations: air temperature, process temperature, and torque, are positively correlated. Notice how the higher these values are, the more likely the end result will be a failure case.\n",
    "3. BoxPlots: We will use boxplots to have a better understanding of the distribution of these features in failured and non failured case.\n",
    "\n",
    "Note: We have to make sure we use the undersample in our correlation matrix or else our correlation matrix will be affected by the high imbalance between our classes. This occurs due to the high class imbalance in the original dataframe."
   ]
  },
  {
   "cell_type": "code",
   "execution_count": 63,
   "id": "9688ec8f-fab3-4621-bc99-263c0a60e5e2",
   "metadata": {},
   "outputs": [
    {
     "data": {
      "text/plain": [
       "Text(0.5, 1.0, 'Correlation of each features')"
      ]
     },
     "execution_count": 63,
     "metadata": {},
     "output_type": "execute_result"
    },
    {
     "data": {
      "image/png": "[encoded data removed]",
      "text/plain": [
       "<Figure size 900x700 with 2 Axes>"
      ]
     },
     "metadata": {},
     "output_type": "display_data"
    }
   ],
   "source": [
    "corr_df = df_resample.corr(method='spearman')\n",
    "fig = plt.figure(figsize=(9,7), dpi= 100)\n",
    "ax = fig.add_axes([0.1, 0.1, 0.5, 0.5])\n",
    "ax = sns.heatmap(corr_df, cmap='coolwarm_r')\n",
    "ax.set_title('Correlation of each features')"
   ]
  },
  {
   "cell_type": "markdown",
   "id": "128ddcdf-e03e-4959-9f52-7000ce635eea",
   "metadata": {},
   "source": [
    "Our aim in this section is to replace the \"extreme outliers\" from features that have a high correlation with our classes. This will have a positive impact on the accuracy of our models.\n",
    "\n",
    "\n",
    "Interquartile Range Method:\n",
    "1. Interquartile Range (IQR): We calculate this by the difference between the 75th percentile and 25th percentile. Our aim is to create a threshold beyond the 75th and 25th percentile that in case some instance pass this threshold the instance will be deleted.\n",
    "2. Boxplots: Besides easily seeing the 25th and 75th percentiles (both end of the squares) it is also easy to see extreme outliers (points beyond the lower and higher extreme)."
   ]
  },
  {
   "cell_type": "code",
   "execution_count": 65,
   "id": "e759e884-054a-4b82-8ce3-eb0507a05910",
   "metadata": {},
   "outputs": [
    {
     "data": {
      "image/png": "[encoded data removed]",
      "text/plain": [
       "<Figure size 1440x360 with 3 Axes>"
      ]
     },
     "metadata": {},
     "output_type": "display_data"
    }
   ],
   "source": [
    "fig, ax = plt.subplots(nrows=1, ncols=3, figsize=(20,5))\n",
    "\n",
    "fig.suptitle('Distribution of Positive & Negative Corelation Features')\n",
    "\n",
    "sns.boxplot(y ='rotational_speed', data=df_resample, x='target', ax=ax[0])\n",
    "ax[0].set_title('Rotational Speed Distribution')\n",
    "ax[0].set_ylabel('')\n",
    "ax[0].set_xticklabels(['No Failure', 'Failure'], rotation= 0)\n",
    "\n",
    "sns.boxplot(y ='torque', data=df_resample, x='target', ax=ax[1])\n",
    "ax[1].set_title('Torque Distribution')\n",
    "ax[1].set_xticklabels(['No Failure', 'Failure'], rotation= 0)\n",
    "ax[1].set_ylabel('')\n",
    "\n",
    "sns.boxplot(y ='air_temperature', data=df_resample, x='target', ax=ax[2])\n",
    "ax[2].set_title('Air Temperature')\n",
    "ax[2].set_xticklabels(['No Failure', 'Failure'], rotation= 0)\n",
    "ax[2].set_ylabel('')\n",
    "\n",
    "plt.show()"
   ]
  },
  {
   "cell_type": "code",
   "execution_count": 66,
   "id": "ff890729-bdf5-4088-b966-39aa03d8e3f3",
   "metadata": {},
   "outputs": [
    {
     "name": "stdout",
     "output_type": "stream",
     "text": [
      "Quartile 25: 1328.5 | Quartile 75: 1435.75\n",
      "iqr: 107.25\n",
      "Cut Off: 160.875\n",
      "Rotational speed Lower: 1167.625\n",
      "Rotational speed Upper: 1596.625\n",
      "Feature Rotational Speed Outliers for Failure Cases: 50\n",
      "% Rotational Speed Outliers for Failure Cases: 7.18 %\n",
      "----------------------------------------------------------------------------------------------------------------------------------------------------------------------------------------------------------------------------------------------\n",
      "Quartile 25: 45.7 | Quartile 75: 61.0\n",
      "iqr: 15.400\n",
      "Cut Off: 23.100\n",
      "Torque Lower: 22.550\n",
      "Torque Upper: 84.150\n",
      "Torque Outliers for Failure Cases: 34\n",
      "% Torque Outliers for Failure Cases: 4.89 %\n",
      "----------------------------------------------------------------------------------------------------------------------------------------------------------------------------------------------------------------------------------------------\n"
     ]
    }
   ],
   "source": [
    "rs_failure = df_resample['rotational_speed'].loc[df_resample['target'] == 1].values\n",
    "q25, q75 = np.percentile(rs_failure, 25), np.percentile(rs_failure, 75)\n",
    "print('Quartile 25: {} | Quartile 75: {}'.format(q25, q75))\n",
    "rs_iqr = q75 - q25\n",
    "print('iqr: {}'.format(rs_iqr))\n",
    "\n",
    "rs_cut_off = rs_iqr * 1.5\n",
    "rs_lower, rs_upper = q25 - rs_cut_off, q75 + rs_cut_off\n",
    "print('Cut Off: {}'.format(rs_cut_off))\n",
    "print('Rotational speed Lower: {}'.format(rs_lower))\n",
    "print('Rotational speed Upper: {}'.format(rs_upper))\n",
    "\n",
    "rs_outliers = [x for x in rs_failure if x < rs_lower or x > rs_upper]\n",
    "print('Feature Rotational Speed Outliers for Failure Cases: {}'.format(len(rs_outliers)))\n",
    "print('% Rotational Speed Outliers for Failure Cases: {:.2f} %'.format(len(rs_outliers) / len(df_resample) * 100))\n",
    "#print('Rotational speed outliers:{}'.format(rs_outliers))\n",
    "print('-' * 238)\n",
    "\n",
    "torque_failure = df_resample['torque'].loc[df_resample['target'] == 1].values\n",
    "q25, q75 = np.percentile(torque_failure, 25), np.percentile(torque_failure, 75)\n",
    "print('Quartile 25: {:.1f} | Quartile 75: {:.1f}'.format(q25, q75))\n",
    "torque_iqr = q75 - q25\n",
    "print('iqr: {:.3f}'.format(torque_iqr))\n",
    "\n",
    "torque_cut_off = torque_iqr * 1.5\n",
    "torque_lower, torque_upper = q25 - torque_cut_off, q75 + torque_cut_off\n",
    "print('Cut Off: {:.3f}'.format(torque_cut_off))\n",
    "print('Torque Lower: {:.3f}'.format(torque_lower))\n",
    "print('Torque Upper: {:.3f}'.format(torque_upper))\n",
    "\n",
    "torque_outliers = [x for x in torque_failure if x < torque_lower or x > torque_upper]\n",
    "print('Torque Outliers for Failure Cases: {}'.format(len(torque_outliers)))\n",
    "print('% Torque Outliers for Failure Cases: {:.2f} %'.format(len(torque_outliers) / len(df_resample) * 100))\n",
    "#print('torque outliers:{}'.format(torque_outliers))\n",
    "print('-' * 238)"
   ]
  },
  {
   "cell_type": "markdown",
   "id": "d048f29b-ef2c-45b2-a939-24afbb275e80",
   "metadata": {},
   "source": [
    "We can see some outliers in the features especially in the failure case,  this outlier can decrease our model performance if we doest treat it, there some ways to deals with this situation such as replacing the outliers with the median of the features or also we can remove the data that contain the outliers if the amount of outliers within the data is relatively small. After identify the outliers that found in our high correlation features, since it have many outliers. we decided to replace it by the median to avoid information loss"
   ]
  },
  {
   "cell_type": "code",
   "execution_count": 67,
   "id": "c9777be9-a609-4e16-94dc-a13ab8d9e17d",
   "metadata": {},
   "outputs": [],
   "source": [
    "rs_median = np.median(df_resample['rotational_speed'])\n",
    "torque_median = np.median(df_resample['torque'])\n",
    "\n",
    "df_resample['rotational_speed'] = df_resample['rotational_speed'].replace(rs_outliers, rs_median)\n",
    "df_resample['torque'] = df_resample['torque'].replace(torque_outliers, torque_median)"
   ]
  },
  {
   "cell_type": "markdown",
   "id": "28ca70db-6d41-4c60-993f-1c1fb2e4a9a4",
   "metadata": {},
   "source": [
    "# Feature Engineering"
   ]
  },
  {
   "cell_type": "markdown",
   "id": "58413fdc-070d-47b2-93c1-b2e29da5eea8",
   "metadata": {},
   "source": [
    "There were some columns that still with categorical type, thus it cannot be read to our machine learning model. so we need to convert the categorical column to the integer based column."
   ]
  },
  {
   "cell_type": "code",
   "execution_count": 68,
   "id": "50a8441c-d121-495d-99ae-d3cb401adcf5",
   "metadata": {},
   "outputs": [],
   "source": [
    "df_resample['type'] = df_resample['type'].astype('str')\n",
    "df_resample['failure_type'] = df_resample['failure_type'].astype('str')"
   ]
  },
  {
   "cell_type": "code",
   "execution_count": 69,
   "id": "ae14aaee-3c5c-464d-bf05-10771d11fda5",
   "metadata": {},
   "outputs": [],
   "source": [
    "le = preprocessing.LabelEncoder()\n",
    "df_resample['failure_type'] = le.fit_transform(df_resample['failure_type'])\n",
    "df_resample['type'] = df_resample['type'].apply(lambda x: ['L', 'M', 'H'].index(x))"
   ]
  },
  {
   "cell_type": "markdown",
   "id": "55bf6792-b1aa-4b2e-a26e-12509fd9c13c",
   "metadata": {},
   "source": [
    "Splitting the data into two parts\n",
    "\n",
    "I used the notation X (capital) to represent the column that we will use to make classification and y (lowercase) to represent the \n",
    "thing that we want to predict, in this case is whether or not the machine is failure on certain condition. in this case i also use\n",
    "copy () method to ensure that the df_resample is not modified when we modify X or y, on the other words if we make a mistake when we\n",
    "formatting the columns, I can just re-copy the df_resample rather than reload the original data \n",
    "\n",
    "in this case our dependent features or target features were the target columns and the independent features were air temperature, process temperature, rotational speed, torque and tool wear min"
   ]
  },
  {
   "cell_type": "code",
   "execution_count": 70,
   "id": "48d09664-7b70-4664-b9f6-23c589b66bf5",
   "metadata": {},
   "outputs": [],
   "source": [
    "X = df_resample.drop(['target', 'failure_type'], axis= 1).copy()\n",
    "y = df_resample['target'].copy()"
   ]
  },
  {
   "cell_type": "markdown",
   "id": "14d2d5c8-8138-47e5-980b-50db07664b7f",
   "metadata": {},
   "source": [
    "since we know that the type's column were categorical type with no sequence. So we need to do one hot encoding (with dummies) to ensure that each type contribute equally. I also using drop first to the first dummies to avoid duplicated.\n",
    "Then we ready to split the our data to train and test data. In this case we used 0.25 % (by default) of our data to be test data "
   ]
  },
  {
   "cell_type": "code",
   "execution_count": 71,
   "id": "a6456a42-91bd-4806-92f6-b4c8122c3bdf",
   "metadata": {},
   "outputs": [],
   "source": [
    "X_encoded = pd.get_dummies(X, columns=['type'], drop_first=True)"
   ]
  },
  {
   "cell_type": "code",
   "execution_count": 109,
   "id": "49e30a3c-7bac-40a6-b7a9-8661f9ec3422",
   "metadata": {},
   "outputs": [
    {
     "data": {
      "text/plain": [
       "1    0.5\n",
       "0    0.5\n",
       "Name: target, dtype: float64"
      ]
     },
     "execution_count": 109,
     "metadata": {},
     "output_type": "execute_result"
    }
   ],
   "source": [
    "y.value_counts(normalize= True)"
   ]
  },
  {
   "cell_type": "code",
   "execution_count": 72,
   "id": "4152e2be-0175-4454-948b-1635c01861a0",
   "metadata": {},
   "outputs": [],
   "source": [
    "X_train, X_test, y_train, y_test = train_test_split(X_encoded, y, random_state= 42)"
   ]
  },
  {
   "cell_type": "markdown",
   "id": "ae5d2c9c-f85d-4fd5-b313-b980f0bb8024",
   "metadata": {},
   "source": [
    "# Feature Scaling"
   ]
  },
  {
   "cell_type": "markdown",
   "id": "12ec44ef-db3f-4280-a34b-86ff4d2a10fe",
   "metadata": {},
   "source": [
    "Our data contains outliers in some features. so its better to choose the robust scaler that were not \n",
    "sensitive to outliers and ensuring that all of the independent feature were contribute equally with same weight"
   ]
  },
  {
   "cell_type": "code",
   "execution_count": 73,
   "id": "1fd7625c-198f-4418-9867-c295ceabfd56",
   "metadata": {},
   "outputs": [],
   "source": [
    "scaler = RobustScaler()\n",
    "X_train = scaler.fit_transform(X_train)\n",
    "X_test = scaler.fit_transform(X_test)"
   ]
  },
  {
   "cell_type": "markdown",
   "id": "93cffe52-6f85-4218-ba75-e83b37402aa0",
   "metadata": {},
   "source": [
    "# Build the preliminary model"
   ]
  },
  {
   "cell_type": "markdown",
   "id": "8998d0ac-97a7-4633-9306-30116e5f94ba",
   "metadata": {},
   "source": [
    "in this section we will try to fit the data to our model and identifying the training score of our preliminary model "
   ]
  },
  {
   "cell_type": "code",
   "execution_count": 74,
   "id": "179071bd-fcc7-480f-9484-9f28429dde0e",
   "metadata": {},
   "outputs": [
    {
     "name": "stdout",
     "output_type": "stream",
     "text": [
      "Classifiers:  SVC Has a training score of 84.0 % accuracy score\n",
      "Classifiers:  LogisticRegression Has a training score of 80.0 % accuracy score\n",
      "Classifiers:  KNeighborsClassifier Has a training score of 83.0 % accuracy score\n"
     ]
    }
   ],
   "source": [
    "classifiers = {\n",
    "    \"Support Vector Classifier\": SVC(),\n",
    "    \"LogisiticRegression\": LogisticRegression(),\n",
    "    \"KNearest\": KNeighborsClassifier()\n",
    "}\n",
    "\n",
    "for key, classifier in classifiers.items():\n",
    "    classifier.fit(X_train, y_train)\n",
    "    training_score = cross_val_score(classifier, X_train, y_train, cv=5)\n",
    "    print(\"Classifiers: \", classifier.__class__.__name__, \"Has a training score of\", round(training_score.mean(), 2) * 100, \"% accuracy score\")"
   ]
  },
  {
   "cell_type": "markdown",
   "id": "65757dd1-388d-4948-9f4e-f65094cc5392",
   "metadata": {},
   "source": [
    "as we can see in our preliminary model with the 5 cross validation, the SVM classifier has the highest training score (84 %) compared to Logistic Regression classirfier (80 %) and K Nearest Neighbors classifier (83 %)"
   ]
  },
  {
   "cell_type": "code",
   "execution_count": 75,
   "id": "a792377f-21bc-4bb2-9b98-7ee874b637ff",
   "metadata": {},
   "outputs": [
    {
     "name": "stdout",
     "output_type": "stream",
     "text": [
      "----\n"
     ]
    }
   ],
   "source": [
    "clf_svm = SVC()\n",
    "clf_svm.fit(X_train, y_train)\n",
    "\n",
    "clf_logreg = LogisticRegression()\n",
    "clf_logreg.fit(X_train, y_train)\n",
    "\n",
    "clf_knn = KNeighborsClassifier()\n",
    "clf_knn.fit(X_train, y_train)\n",
    "\n",
    "print('----')"
   ]
  },
  {
   "cell_type": "markdown",
   "id": "bfeacddd-610a-43f5-9e77-472146af9b0f",
   "metadata": {},
   "source": [
    "# Hiperparameter Tuning"
   ]
  },
  {
   "cell_type": "markdown",
   "id": "7902ff63-6b96-4eea-bf74-83db3595183c",
   "metadata": {},
   "source": [
    "in this section we will search the best parameter of each classifier in order to improve our model's score. In this case i use 5 cross validation and change the scoring parameter to the roc auc score knowing the ability to classify the failure case is important than classify no failure case"
   ]
  },
  {
   "cell_type": "code",
   "execution_count": 76,
   "id": "ca92410b-28a8-4832-8f61-ca9b85cf4d26",
   "metadata": {},
   "outputs": [
    {
     "name": "stdout",
     "output_type": "stream",
     "text": [
      "SVM Best Params : {'C': 10, 'gamma': 0.1, 'kernel': 'rbf'}\n",
      "SVM Best CV Score : 0.9276661048766115\n",
      "SVM best score (Roc-Auc) : 0.829\n",
      "SVM best score (Precision) : 0.793\n",
      "SVM best score (Recall) : 0.852\n"
     ]
    }
   ],
   "source": [
    "param_grid = [{'gamma':['scale', 0.1, 1, 10, 50],\n",
    "                'C': [0.1, 0.5, 1, 10],\n",
    "                'kernel':['rbf', 'linear']}]\n",
    "\n",
    "svm_optimal_params = GridSearchCV(\n",
    "                    SVC(),\n",
    "                    param_grid,\n",
    "                    cv= 5,\n",
    "                    scoring='roc_auc',\n",
    "                    return_train_score=True)\n",
    "\n",
    "svm_optimal_params.fit(X_train, y_train)\n",
    "y_pred = svm_optimal_params.predict(X_test)\n",
    "\n",
    "\n",
    "print('SVM Best Params : {}'.format(svm_optimal_params.best_params_))\n",
    "print('SVM Best CV Score : {}'.format(svm_optimal_params.best_score_))\n",
    "print('SVM best score (Roc-Auc) : {:.3f}'.format(roc_auc_score(y_test, y_pred)))\n",
    "print('SVM best score (Precision) : {:.3f}'.format(precision_score(y_test, y_pred)))\n",
    "print('SVM best score (Recall) : {:.3f}'.format(recall_score(y_test, y_pred)))"
   ]
  },
  {
   "cell_type": "code",
   "execution_count": 77,
   "id": "3e457920-d0ae-46cc-9a56-0a952a07aa39",
   "metadata": {},
   "outputs": [
    {
     "name": "stdout",
     "output_type": "stream",
     "text": [
      "SVM Best Params : {'C': 0.05179474679231213, 'l1_ratio': 0.0, 'penalty': 'l2'}\n",
      "SVM Best CV Score : 0.8968964525013359\n",
      "SVM best score (Roc-Auc) : 0.785\n",
      "SVM best score (Precision) : 0.736\n",
      "SVM best score (Recall) : 0.827\n"
     ]
    }
   ],
   "source": [
    "l1_space = np.linspace(0, 1, 30)\n",
    "c_space = np.logspace(-5, 8, 15)\n",
    "\n",
    "param_grid = [{'C': c_space,\n",
    "              'penalty':['l1', 'l2'],\n",
    "              'l1_ratio': l1_space}]\n",
    "\n",
    "lr_optimal_params = GridSearchCV(\n",
    "                    LogisticRegression(),\n",
    "                    param_grid,\n",
    "                    cv= 5,\n",
    "                    scoring='roc_auc',\n",
    "                    return_train_score=True)\n",
    "\n",
    "lr_optimal_params.fit(X_train, y_train)\n",
    "y_pred = lr_optimal_params.predict(X_test)\n",
    "\n",
    "\n",
    "print('SVM Best Params : {}'.format(lr_optimal_params.best_params_))\n",
    "print('SVM Best CV Score : {}'.format(lr_optimal_params.best_score_))\n",
    "print('SVM best score (Roc-Auc) : {:.3f}'.format(roc_auc_score(y_test, y_pred)))\n",
    "print('SVM best score (Precision) : {:.3f}'.format(precision_score(y_test, y_pred)))\n",
    "print('SVM best score (Recall) : {:.3f}'.format(recall_score(y_test, y_pred)))"
   ]
  },
  {
   "cell_type": "code",
   "execution_count": 78,
   "id": "b6153d49-dd7b-4343-bba6-c57a0bbad01f",
   "metadata": {},
   "outputs": [
    {
     "name": "stdout",
     "output_type": "stream",
     "text": [
      "SVM Best Params : {'algorithm': 'auto', 'n_neighbors': 19}\n",
      "SVM Best CV Score : 0.9134733697811761\n",
      "SVM best score (Roc-Auc) : 0.835\n",
      "SVM best score (Precision) : 0.795\n",
      "SVM best score (Recall) : 0.864\n"
     ]
    }
   ],
   "source": [
    "param_grid = [{\"n_neighbors\": np.arange(4,20),\n",
    "               'algorithm': ['auto', 'ball_tree', 'kd_tree', 'brute']}]\n",
    "\n",
    "knn_optimal_params = GridSearchCV(\n",
    "                    KNeighborsClassifier(),\n",
    "                    param_grid,\n",
    "                    cv= 5,\n",
    "                    scoring='roc_auc',\n",
    "                    return_train_score=True)\n",
    "\n",
    "knn_optimal_params.fit(X_train, y_train)\n",
    "y_pred = knn_optimal_params.predict(X_test)\n",
    "\n",
    "\n",
    "print('SVM Best Params : {}'.format(knn_optimal_params.best_params_))\n",
    "print('SVM Best CV Score : {}'.format(knn_optimal_params.best_score_))\n",
    "print('SVM best score (Roc-Auc) : {:.3f}'.format(roc_auc_score(y_test, y_pred)))\n",
    "print('SVM best score (Precision) : {:.3f}'.format(precision_score(y_test, y_pred)))\n",
    "print('SVM best score (Recall) : {:.3f}'.format(recall_score(y_test, y_pred)))"
   ]
  },
  {
   "cell_type": "markdown",
   "id": "20c9f571-e66f-4b9b-bb7f-b3ff56b9152e",
   "metadata": {},
   "source": [
    "# Build the optimized model"
   ]
  },
  {
   "cell_type": "code",
   "execution_count": 79,
   "id": "cbb74c00-860d-4ed9-a555-4a2914a596d3",
   "metadata": {},
   "outputs": [
    {
     "data": {
      "image/png": "[encoded data removed]",
      "text/plain": [
       "<Figure size 1440x360 with 6 Axes>"
      ]
     },
     "metadata": {},
     "output_type": "display_data"
    }
   ],
   "source": [
    "\n",
    "fig, ax = plt.subplots(nrows=1, ncols=3, figsize=(20,5))\n",
    "\n",
    "fig.suptitle('Confusion Matrix')\n",
    "\n",
    "plot_confusion_matrix(svm_optimal_params, X_test, y_test, cmap=plt.cm.copper,\n",
    "                      ax=ax[0], display_labels = ['No Failure', 'Failure'])\n",
    "ax[0].set_title('SVM')\n",
    "ax[0].grid(False)\n",
    "\n",
    "plot_confusion_matrix(lr_optimal_params, X_test, y_test, cmap=plt.cm.copper, \n",
    "                      ax=ax[1], display_labels = ['No Failure', 'Failure'])\n",
    "plt.grid(None)\n",
    "ax[1].set_title('Logistic Regression')\n",
    "ax[1].grid(False)\n",
    "\n",
    "plot_confusion_matrix(knn_optimal_params, X_test, y_test, cmap=plt.cm.copper,\n",
    "                      ax=ax[2], display_labels = ['No Failure', 'Failure'])\n",
    "\n",
    "ax[2].set_title('KNN')\n",
    "ax[2].grid(False)"
   ]
  },
  {
   "cell_type": "markdown",
   "id": "e100ca8e-4ecb-4eb7-b03a-6a45484a0e2d",
   "metadata": {},
   "source": [
    "# Conclusion"
   ]
  },
  {
   "cell_type": "markdown",
   "id": "be4e97ab-ce8d-4b70-a4dd-ebf84b917a16",
   "metadata": {},
   "source": [
    "1. From the confusion matrix of our optimized model of SVM classifier we can see that from the 81 case that were failure 69 (85,1 %) were correctly classified. And from the 93 case that were no failure, 75 (80.6 %) were correctly classified. it was quite good straight out of the box without much optimization.\n",
    "\n",
    "2. From the confusion matrix of our optimized model of Logistic Regression classifier we can see that from the 81 case that were failure 67 (82,7 %) were correctly classified. And from the 93 case that were no failure, 69 (74.1 %) were correctly classified. it was quite bad in we compared to the result from SVM classifier.\n",
    "\n",
    "3. From the confusion matrix of our optimized model of KNN classifier we can see that from the 81 case that were failure 70 (86,4 %) were correctly classified. And from the 93 case that were no failure, 75 (80.6 %) were correctly classified. it increase about 1 % if we compared to SVM classifier from the ability to classified failure case .\n",
    "\n",
    "4. From the result of our final confusion matrix above, in this case we can say that the KNN classifier is better to classified the failure's machine compared with two other classifier. Later on our model's is ready to be use to make a prediction about whether or not the machine will failure at certain condition. And we can do the maintenance to machine that we predicted to be failured  "
   ]
  }
 ],
 "metadata": {
  "kernelspec": {
   "display_name": "Python 3 (ipykernel)",
   "language": "python",
   "name": "python3"
  },
  "language_info": {
   "codemirror_mode": {
    "name": "ipython",
    "version": 3
   },
   "file_extension": ".py",
   "mimetype": "text/x-python",
   "name": "python",
   "nbconvert_exporter": "python",
   "pygments_lexer": "ipython3",
   "version": "3.9.7"
  }
 },
 "nbformat": 4,
 "nbformat_minor": 5
}
